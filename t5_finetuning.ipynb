{
  "cells": [
    {
      "cell_type": "code",
      "execution_count": null,
      "metadata": {
        "colab": {
          "base_uri": "https://localhost:8080/"
        },
        "id": "Bbwl6E1E205R",
        "outputId": "88f46349-7bba-4016-9ab7-c747c6ef1152"
      },
      "outputs": [],
      "source": [
        "%pip install transformers\n",
        "# T5Tokenizer requires the SentencePiece library\n",
        "%pip install sentencepiece"
      ]
    },
    {
      "cell_type": "code",
      "execution_count": null,
      "metadata": {
        "colab": {
          "base_uri": "https://localhost:8080/"
        },
        "id": "8V0fO8RwA8cC",
        "outputId": "3c9b2660-1027-42cf-dfff-aa540e503265"
      },
      "outputs": [],
      "source": [
        "%pip install datasets\n",
        "%pip install rouge_score\n",
        "%pip install sacrebleu"
      ]
    },
    {
      "cell_type": "code",
      "execution_count": null,
      "metadata": {
        "id": "wB441x104K-o"
      },
      "outputs": [],
      "source": [
        "# Importing libraries\n",
        "import os\n",
        "import logging\n",
        "\n",
        "import numpy as np\n",
        "import pandas as pd\n",
        "import matplotlib.pyplot as plt\n",
        "\n",
        "from sklearn.model_selection import train_test_split\n",
        "from tqdm import tqdm\n",
        "\n",
        "import torch\n",
        "import torch.nn.functional as F\n",
        "from torch.utils.data import Dataset, DataLoader, RandomSampler, SequentialSampler\n",
        "\n",
        "# Import modules from huggingface\n",
        "from transformers import T5Tokenizer, T5ForConditionalGeneration"
      ]
    },
    {
      "cell_type": "code",
      "execution_count": null,
      "metadata": {
        "id": "QG3Q0E-jKHOZ"
      },
      "outputs": [],
      "source": [
        "OUTPUT_DIR = \"./outputs/\"\n",
        "if not os.path.exists(OUTPUT_DIR):\n",
        "  os.mkdir(OUTPUT_DIR)\n",
        "\n",
        "# define logging\n",
        "\n",
        "LOG_FILE = OUTPUT_DIR + f\"t5_finetuning_{np.datetime64('now')}\"\n",
        "logging.basicConfig(filename=LOG_FILE, filemode=\"w\", level=logging.DEBUG)"
      ]
    },
    {
      "cell_type": "code",
      "execution_count": null,
      "metadata": {
        "colab": {
          "base_uri": "https://localhost:8080/"
        },
        "id": "tlYaKW9h4ai_",
        "outputId": "17c5e430-1777-4fd9-d42b-e68d153df4c7"
      },
      "outputs": [],
      "source": [
        "device = 'cuda' if torch.cuda.is_available() else 'cpu'\n",
        "print(device)"
      ]
    },
    {
      "cell_type": "markdown",
      "metadata": {
        "id": "r2Gn4rTgENb8"
      },
      "source": [
        "### Load data"
      ]
    },
    {
      "cell_type": "code",
      "execution_count": null,
      "metadata": {
        "id": "y6nEben93JAk"
      },
      "outputs": [],
      "source": [
        "INPUT_DIR = \"./data/\"\n",
        "train_df = pd.read_csv(INPUT_DIR+\"qg_train.csv\")\n",
        "dev_df = pd.read_csv(INPUT_DIR+\"qg_dev.csv\")"
      ]
    },
    {
      "cell_type": "code",
      "execution_count": null,
      "metadata": {
        "id": "AYfBicZQ59Jf"
      },
      "outputs": [],
      "source": [
        "# for question generation task, prepend answer to sentence\n",
        "train_df[\"input\"] = \"<answer> \"+train_df[\"answer\"]+\" <context> \"+train_df[\"context\"]\n",
        "dev_df[\"input\"] = \"<answer> \"+dev_df[\"answer\"]+\" <context> \"+dev_df[\"context\"]"
      ]
    },
    {
      "cell_type": "code",
      "execution_count": null,
      "metadata": {
        "colab": {
          "base_uri": "https://localhost:8080/",
          "height": 337
        },
        "id": "81f4PKa1F6aM",
        "outputId": "fb969927-5045-4b3a-a6a0-2a731f4bb8a2"
      },
      "outputs": [],
      "source": [
        "train_df.head()"
      ]
    },
    {
      "cell_type": "code",
      "execution_count": null,
      "metadata": {
        "colab": {
          "base_uri": "https://localhost:8080/"
        },
        "id": "gsfoZbjqENcC",
        "outputId": "942a4e97-04a3-41f8-f0ad-fd3e8f33db48"
      },
      "outputs": [],
      "source": [
        "logging.info(f\"[Data]: Reading data...\\n\")\n",
        "\n",
        "source_text = \"input\"\n",
        "target_text = \"question\"\n",
        "\n",
        "train_dataset = train_df.reset_index()[[source_text,target_text]]\n",
        "test_dataset = dev_df.reset_index()[[source_text,target_text]]\n",
        "\n",
        "# train test split \n",
        "# SQuaD 2.0 train --> 80% train + 15% val\n",
        "# SQuaD 2.0 dev --> test\n",
        "train_dataset, val_dataset = train_test_split(train_dataset, test_size=0.15, random_state=42)\n",
        "\n",
        "# reset dataframe index\n",
        "train_dataset.reset_index(inplace=True)\n",
        "val_dataset.reset_index(inplace=True)\n",
        "test_dataset.reset_index(inplace=True)\n",
        "\n",
        "print(f\"Training {train_dataset.shape} samples\")\n",
        "print(f\"Validation {val_dataset.shape} samples\")\n",
        "print(f\"Test {test_dataset.shape} samples\")"
      ]
    },
    {
      "cell_type": "markdown",
      "metadata": {
        "id": "ho-HJA-6ENcD"
      },
      "source": [
        "### Define dataset class and functions"
      ]
    },
    {
      "cell_type": "code",
      "execution_count": null,
      "metadata": {
        "id": "8vLQPGAn4v17"
      },
      "outputs": [],
      "source": [
        "class QuestionSentenceDataset(Dataset):\n",
        "  \"\"\"\n",
        "  Creating a custom dataset \n",
        "  \"\"\"\n",
        "\n",
        "  def __init__(self, data, tokenizer, source_len, target_len, source_text, target_text):\n",
        "    self.tokenizer = tokenizer\n",
        "    self.data = data\n",
        "    self.source_len = source_len\n",
        "    self.out_len = target_len\n",
        "    self.target_text = self.data[target_text]\n",
        "    self.source_text = self.data[source_text]\n",
        "\n",
        "  def __len__(self):\n",
        "    return len(self.target_text)\n",
        "\n",
        "  def __getitem__(self, index):\n",
        "    source_text = str(self.source_text[index])\n",
        "    target_text = str(self.target_text[index])\n",
        "    \n",
        "    source_text = ' '.join(source_text.split())\n",
        "    target_text = ' '.join(target_text.split())\n",
        "\n",
        "    # from text to ids\n",
        "    source = self.tokenizer.batch_encode_plus([source_text], max_length= self.source_len, pad_to_max_length=True, truncation=True, padding=\"max_length\", return_tensors='pt')\n",
        "    target = self.tokenizer.batch_encode_plus([target_text], max_length= self.out_len, pad_to_max_length=True, truncation=True, padding=\"max_length\", return_tensors='pt')\n",
        "  \n",
        "    source_ids = source['input_ids'].squeeze()\n",
        "    source_mask = source['attention_mask'].squeeze()\n",
        "    target_ids = target['input_ids'].squeeze()\n",
        "    target_mask = target['attention_mask'].squeeze()\n",
        "\n",
        "    return {\n",
        "        'source_ids': source_ids.to(dtype=torch.long), \n",
        "        'source_mask': source_mask.to(dtype=torch.long), \n",
        "        'target_ids': target_ids.to(dtype=torch.long),\n",
        "        'target_ids_y': target_ids.to(dtype=torch.long)\n",
        "    }"
      ]
    },
    {
      "cell_type": "code",
      "execution_count": null,
      "metadata": {
        "id": "Nkj6wIMt40RK"
      },
      "outputs": [],
      "source": [
        "def train(epoch, tokenizer, model, device, loader, optimizer):\n",
        "\n",
        "  \"\"\"\n",
        "  Function for training\n",
        "\n",
        "  \"\"\"\n",
        "\n",
        "  model.train()\n",
        "  epoch_loss = []\n",
        "  for _, data in tqdm(enumerate(loader)):\n",
        "    y = data['target_ids'].to(device, dtype = torch.long)\n",
        "    y_ids = y[:, :-1].contiguous()\n",
        "    lm_labels = y[:, 1:].clone().detach()\n",
        "    # padding of labels is done with a token with id -100\n",
        "    # which is a special token automatically ignored by PyTorch loss functions\n",
        "    lm_labels[y[:, 1:] == tokenizer.pad_token_id] = -100 \n",
        "    ids = data['source_ids'].to(device, dtype = torch.long)\n",
        "    mask = data['source_mask'].to(device, dtype = torch.long)\n",
        "\n",
        "    outputs = model(input_ids = ids, attention_mask = mask, decoder_input_ids=y_ids, labels=lm_labels)\n",
        "    loss = outputs[0]\n",
        "    epoch_loss.append(outputs[0].detach().cpu().numpy()) \n",
        "\n",
        "    # if _%10==0:\n",
        "    #   print(f\"Epoch {epoch}, Step {_}, Loss = {loss}\")\n",
        "\n",
        "    optimizer.zero_grad()\n",
        "    loss.backward()\n",
        "    optimizer.step()  \n",
        "\n",
        "  epoch_loss = np.mean(epoch_loss)\n",
        "\n",
        "  return epoch_loss "
      ]
    },
    {
      "cell_type": "code",
      "execution_count": null,
      "metadata": {
        "id": "GUBykK-A43DF"
      },
      "outputs": [],
      "source": [
        "def validate(epoch, tokenizer, model, device, loader):\n",
        "\n",
        "  \"\"\"\n",
        "  Function for validation during training\n",
        "\n",
        "  \"\"\"\n",
        "  model.eval()\n",
        "  epoch_loss = []\n",
        "  with torch.no_grad():\n",
        "    for _, data in tqdm(enumerate(loader)):\n",
        "      y = data['target_ids'].to(device, dtype = torch.long)\n",
        "      y_ids = y[:, :-1].contiguous()\n",
        "      lm_labels = y[:, 1:].clone().detach()\n",
        "      lm_labels[y[:, 1:] == tokenizer.pad_token_id] = -100 \n",
        "      ids = data['source_ids'].to(device, dtype = torch.long)\n",
        "      mask = data['source_mask'].to(device, dtype = torch.long)\n",
        "\n",
        "      outputs = model(input_ids = ids, attention_mask = mask, decoder_input_ids=y_ids, labels=lm_labels)\n",
        "      loss = outputs[0]\n",
        "      epoch_loss.append(outputs[0].detach().cpu().numpy()) \n",
        "\n",
        "  epoch_loss = np.mean(epoch_loss)\n",
        "  return epoch_loss "
      ]
    },
    {
      "cell_type": "code",
      "execution_count": null,
      "metadata": {
        "id": "Tw4RW_qO4_8T"
      },
      "outputs": [],
      "source": [
        "def T5Trainer(train_dataset, val_dataset, source_text, target_text, model_params, output_dir):\n",
        "  \n",
        "  \"\"\"\n",
        "  T5 train and validate\n",
        "\n",
        "  \"\"\"\n",
        "\n",
        "  # for reproducibility\n",
        "  torch.manual_seed(model_params[\"SEED\"])\n",
        "  np.random.seed(model_params[\"SEED\"])\n",
        "  torch.backends.cudnn.deterministic = True\n",
        "\n",
        "  logging.info(f\"\"\"[Model]: Loading {model_params[\"MODEL\"]}...\\n\"\"\")\n",
        "\n",
        "  # encode text\n",
        "  tokenizer = T5Tokenizer.from_pretrained(model_params[\"MODEL\"], \n",
        "                                          truncation_side='right', padding_side='right')\n",
        "  tokenizer.add_tokens(['<answer>', '<context>'])\n",
        "                                      \n",
        "                                        \n",
        "\n",
        "  # using T5 with language model layer\n",
        "  model = T5ForConditionalGeneration.from_pretrained(model_params[\"MODEL\"])\n",
        "  model = model.to(device)\n",
        "  model.resize_token_embeddings(len(tokenizer))  \n",
        "  \n",
        "  # create dataloaders\n",
        "  train_qsd = QuestionSentenceDataset(train_dataset, tokenizer, \n",
        "                                      model_params[\"MAX_SOURCE_TEXT_LENGTH\"], model_params[\"MAX_TARGET_TEXT_LENGTH\"], \n",
        "                                      source_text, target_text)\n",
        "  \n",
        "  val_qsd = QuestionSentenceDataset(val_dataset, tokenizer, \n",
        "                                    model_params[\"MAX_SOURCE_TEXT_LENGTH\"], model_params[\"MAX_TARGET_TEXT_LENGTH\"], \n",
        "                                    source_text, target_text)\n",
        "\n",
        "  train_params = {\n",
        "      'batch_size': model_params[\"TRAIN_BATCH_SIZE\"],\n",
        "      'shuffle': True,\n",
        "      'num_workers': 0\n",
        "      }\n",
        "\n",
        "  val_params = {\n",
        "      'batch_size': model_params[\"VALID_BATCH_SIZE\"],\n",
        "      'shuffle': False,\n",
        "      'num_workers': 0\n",
        "      }\n",
        "\n",
        "  train_loader = DataLoader(train_qsd, **train_params)\n",
        "  val_loader = DataLoader(val_qsd, **val_params)\n",
        "\n",
        "  # training loop\n",
        "  train_loss = []\n",
        "  val_loss = []\n",
        "  optimizer = torch.optim.Adam(params =  model.parameters(), lr=model_params[\"LEARNING_RATE\"])\n",
        "\n",
        "  logging.info(f'[Initiating Fine Tuning]...\\n')\n",
        "\n",
        "  for epoch in range(model_params[\"TRAIN_EPOCHS\"]):\n",
        "      # train\n",
        "      epoch_train_loss = train(epoch, tokenizer, model, device, train_loader, optimizer)\n",
        "      train_loss.append(epoch_train_loss)\n",
        "      # validate\n",
        "      epoch_val_loss = validate(epoch, tokenizer, model, device, val_loader)\n",
        "      val_loss.append(epoch_val_loss)\n",
        "\n",
        "      print(f\"Epoch {epoch}, Train Loss = {round(epoch_train_loss, 3)} Val Loss = {round(epoch_val_loss, 3)}\")\n",
        "      # checkpoint\n",
        "      if epoch%3==0 and epoch>0:\n",
        "        cp_path = os.path.join(output_dir, f\"checkpoint_epoch{epoch}\")\n",
        "        model.save_pretrained(cp_path)\n",
        "      \n",
        "  plt.plot(list(zip(train_loss, val_loss)))\n",
        "  plt.ylabel(\"Loss\")\n",
        "  plt.yticks(np.arange(0, 5, step=0.25))\n",
        "  plt.xlabel(\"Epochs\")\n",
        "  plt.xticks(np.arange(0, len(train_loss), step=1))\n",
        "  plt.legend(['train', 'val'])\n",
        "  plt.show()\n",
        "\n",
        "  logging.info(f\"[Saving Model]...\\n\")\n",
        "  # save model, tokenizer and configs\n",
        "  path = os.path.join(output_dir, \"final\")\n",
        "  model.save_pretrained(path)\n",
        "  tokenizer.save_pretrained(path)\n",
        "  \n",
        "  # logging.info(f\"[Validation Completed.]\\n\")\n",
        "  print(f\"\"\"[Model] Model saved @ {os.path.join(output_dir, \"checkpoints\")}\\n\"\"\")\n",
        "  # print(f\"\"\"[Validation] Generated questions saved @ {os.path.join(output_dir,'predictions.csv')}\\n\"\"\")\n",
        "  print(f\"\"\"[Logs] Logs saved @ {LOG_FILE}\\n\"\"\")"
      ]
    },
    {
      "cell_type": "code",
      "execution_count": null,
      "metadata": {
        "id": "PxCpQwD8PDIs"
      },
      "outputs": [],
      "source": [
        "model_params={\n",
        "    \"MODEL\":\"./more/final/\",            # pretrained model\n",
        "    \"TRAIN_BATCH_SIZE\":8,          # training batch size\n",
        "    \"VALID_BATCH_SIZE\":8,          # validation batch size\n",
        "    \"TRAIN_EPOCHS\":3,              # number of training epochs\n",
        "    \"VAL_EPOCHS\":1,                # number of validation epochs\n",
        "    \"LEARNING_RATE\":4e-5,          # learning rate\n",
        "    \"MAX_SOURCE_TEXT_LENGTH\":75,   # max length of source text\n",
        "    \"MAX_TARGET_TEXT_LENGTH\":25,   # max length of target text\n",
        "    \"SEED\": 42                     # set seed for reproducibility \n",
        "\n",
        "}"
      ]
    },
    {
      "cell_type": "code",
      "execution_count": null,
      "metadata": {
        "colab": {
          "base_uri": "https://localhost:8080/",
          "height": 518
        },
        "id": "qijZoYeI55fM",
        "outputId": "641cf777-5356-476a-d95c-4d2cfca0a4c7"
      },
      "outputs": [],
      "source": [
        "T5Trainer(train_dataset, val_dataset, source_text=\"input\", target_text=\"question\", model_params=model_params, output_dir=OUTPUT_DIR)"
      ]
    },
    {
      "cell_type": "markdown",
      "metadata": {
        "id": "Xujjllw48MqD"
      },
      "source": [
        "### Evaluation on test set"
      ]
    },
    {
      "cell_type": "code",
      "execution_count": null,
      "metadata": {
        "colab": {
          "base_uri": "https://localhost:8080/",
          "height": 81,
          "referenced_widgets": [
            "36d5e98c5d274e8e9d7f97a7889be643",
            "42f14d738724446b9933be8068239b91",
            "5cbc8a0415944ced9db091045b56df68",
            "2f39ce4cebbe4401828a2726a51f74cb",
            "a8fd77a1a7a4442a975c1b5c1d08681e",
            "93b38be88d964c759535aa788d1cc4a5",
            "d045d0668c304cf48fbaf1ce10effdaf",
            "d5987176e12a4274aca00e2fb58d4395",
            "a983f064b5834552957e0c549cd06039",
            "3b24bc0a9f3a4dbbad7e95168b2c8051",
            "983a8c4edbf8450292a4e4f3b1246ff8",
            "bda282f8e8b8420baa64168f1e633254",
            "1c85eccb3b674506b481e93261b87a7c",
            "3c366825edc4455f99af91397e7a764e",
            "aca7b962bbf845a99e662499e8e4fae1",
            "3644cc8a6bbe499f92cae79aa0948d4d",
            "7510dc49241b415eae8d52c939c982a2",
            "b2f56981b35b435381b1a07b8324c4b7",
            "2b05fccad5374783a792c7546699efe7",
            "3c2ab6bbf1b044ab82e7904cb9276a8f",
            "7def54c90a144bc6aa9ae52ce00bfb9d",
            "a76c78949456478ab8bcaf3c1d71eb35"
          ]
        },
        "id": "KSFelb-L8RYb",
        "outputId": "2d32d14a-24f4-4a55-bd57-53e8eb1c1338"
      },
      "outputs": [],
      "source": [
        "from datasets import load_metric\n",
        "rouge_metric = load_metric(\"rouge\")\n",
        "bleu_metric = load_metric('sacrebleu')"
      ]
    },
    {
      "cell_type": "code",
      "execution_count": null,
      "metadata": {
        "id": "rI3P0lvPBNJ0"
      },
      "outputs": [],
      "source": [
        "device = 'cuda' if torch.cuda.is_available() else 'cpu'"
      ]
    },
    {
      "cell_type": "code",
      "execution_count": null,
      "metadata": {
        "id": "aFvKBjn69pG8"
      },
      "outputs": [],
      "source": [
        "def evaluate(tokenizer, model, device, loader):\n",
        "\n",
        "  \"\"\"\n",
        "  Function to get predictions from model\n",
        "\n",
        "  \"\"\"\n",
        "\n",
        "  model.eval()\n",
        "  sources = []\n",
        "  predictions = []\n",
        "  actuals = []\n",
        "  results = []\n",
        "  lengths = []\n",
        "  with torch.no_grad():\n",
        "      for _, data in tqdm(enumerate(loader)):\n",
        "          y = data['target_ids'].to(device, dtype = torch.long)\n",
        "          ids = data['source_ids'].to(device, dtype = torch.long)\n",
        "          mask = data['source_mask'].to(device, dtype = torch.long)\n",
        "\n",
        "          generated_ids = model.generate(\n",
        "              input_ids = ids,\n",
        "              attention_mask = mask, \n",
        "              max_length=25, \n",
        "              num_beams=3,\n",
        "              repetition_penalty=2.5, \n",
        "              length_penalty=1.0, \n",
        "              early_stopping=True\n",
        "              )\n",
        "\n",
        "          # get words from ids\n",
        "          srcs = [tokenizer.decode(i, clean_up_tokenization_spaces=True) for i in ids]\n",
        "          preds = [tokenizer.decode(g, skip_special_tokens=True, clean_up_tokenization_spaces=True) for g in generated_ids]\n",
        "          target = [tokenizer.decode(t, skip_special_tokens=True, clean_up_tokenization_spaces=True)for t in y]\n",
        "          \n",
        "          \n",
        "          # track generated length \n",
        "          lengths += [len(p) for p in preds]\n",
        "          \n",
        "          # if _%10==0:\n",
        "          #     print(f'Completed {_}')\n",
        "\n",
        "          sources.extend(srcs)\n",
        "          predictions.extend(preds)\n",
        "          actuals.extend(target)\n",
        "      \n",
        "  # Compute ROUGE scores and extract ROUGE f1 scores\n",
        "  results = rouge_metric.compute(predictions=predictions, references=actuals, use_stemmer=True, use_aggregator=True)\n",
        "  results = {key: value.mid.fmeasure * 100 for key, value in results.items()}\n",
        "  # Compute BLEU scores\n",
        "  scores = bleu_metric.compute(predictions=predictions, references=[[a] for a in actuals]) #note: BLEU expects references to be list of lists\n",
        "  results[\"bleu_score\"] = scores[\"score\"]\n",
        "  # Average generated output length\n",
        "  results[\"gen_len\"] = np.mean(lengths)\n",
        "\n",
        "  results = {k: round(v, 4) for k, v in results.items()}\n",
        "  return predictions, actuals, sources, results"
      ]
    },
    {
      "cell_type": "code",
      "execution_count": null,
      "metadata": {
        "id": "zhNmSicbBqOb"
      },
      "outputs": [],
      "source": [
        "my_model_params={\n",
        "    \"MODEL_DIR\":\"./outputs/final/\",            \n",
        "    \"VALID_BATCH_SIZE\":8,          # evaluation batch size\n",
        "    \"MAX_SOURCE_TEXT_LENGTH\":75,   # max length of source text\n",
        "    \"MAX_TARGET_TEXT_LENGTH\":25,   # max length of target text\n",
        "    \"SEED\": 42                     # set seed for reproducibility \n",
        "\n",
        "}"
      ]
    },
    {
      "cell_type": "code",
      "execution_count": null,
      "metadata": {
        "id": "40YLBEts-YDA"
      },
      "outputs": [],
      "source": [
        "def T5Evaluator(val_dataset, source_text, target_text, model_params, output_dir):\n",
        "  \n",
        "  \"\"\"\n",
        "  T5 evaluate\n",
        "\n",
        "  \"\"\"\n",
        "   # for reproducibility\n",
        "  torch.manual_seed(model_params[\"SEED\"])\n",
        "  np.random.seed(model_params[\"SEED\"])\n",
        "  torch.backends.cudnn.deterministic = True\n",
        "  \n",
        "  logging.info(f\"\"\"[Model]: Loading our finetuned model from directory {model_params[\"MODEL_DIR\"]}...\\n\"\"\")\n",
        "\n",
        "  # encode text\n",
        "  tokenizer = T5Tokenizer.from_pretrained(model_params[\"MODEL_DIR\"], truncation_side='right', padding_side='right')\n",
        "  \n",
        "\n",
        "  # using T5 with language model layer\n",
        "  model = T5ForConditionalGeneration.from_pretrained(model_params[\"MODEL_DIR\"])\n",
        "  model = model.to(device)\n",
        "  \n",
        "  # create dataloaders\n",
        "  test_qsd = QuestionSentenceDataset(val_dataset, tokenizer, model_params[\"MAX_SOURCE_TEXT_LENGTH\"], model_params[\"MAX_TARGET_TEXT_LENGTH\"], source_text, target_text)\n",
        "\n",
        "  val_params = {\n",
        "      'batch_size': model_params[\"VALID_BATCH_SIZE\"],\n",
        "      'shuffle': False,\n",
        "      'num_workers': 0\n",
        "      }\n",
        "\n",
        "  test_loader = DataLoader(test_qsd, **val_params)\n",
        "\n",
        "  # evaluating test dataset\n",
        "  logging.info(f\"[Initiating Evaluation]...\\n\")\n",
        "  predictions, actuals, sources, results = evaluate(tokenizer, model, device, test_loader)\n",
        "  logging.info(f\"[Performance on Test Set] {results}\\n\")\n",
        "  print(\"Performance\", results)\n",
        "  final_df = pd.DataFrame({'generated':predictions,'actual':actuals, 'sentence': sources})\n",
        "  final_df.to_csv(os.path.join(output_dir,'predictions.csv'))\n",
        "  \n",
        "  logging.info(f\"[Evaluation Completed.]\\n\")\n",
        "  print(f\"\"\"[Evaluation] Generated questions saved @ {os.path.join(output_dir,'predictions.csv')}\\n\"\"\")"
      ]
    },
    {
      "cell_type": "code",
      "execution_count": null,
      "metadata": {
        "colab": {
          "base_uri": "https://localhost:8080/"
        },
        "id": "AuwI1dUCC_2K",
        "outputId": "78de2e57-e871-4ba7-fa73-c98db82cd11b"
      },
      "outputs": [],
      "source": [
        "T5Evaluator(test_dataset, source_text=\"input\", target_text=\"question\", model_params=my_model_params, output_dir=OUTPUT_DIR )"
      ]
    },
    {
      "cell_type": "markdown",
      "metadata": {
        "id": "efTx-Q5eIrTm"
      },
      "source": [
        "### Inference for single sample\n"
      ]
    },
    {
      "cell_type": "code",
      "execution_count": null,
      "metadata": {
        "id": "ZEf9CC3zXrZ1"
      },
      "outputs": [],
      "source": [
        "def infer(tokenizer, model, device, data):\n",
        "\n",
        "  \"\"\"\n",
        "  Function to get predictions from model\n",
        "\n",
        "  \"\"\"\n",
        "\n",
        "  model.eval()\n",
        "  with torch.no_grad():\n",
        "      ids = data['source_ids'].to(device, dtype = torch.long)\n",
        "      mask = data['source_mask'].to(device, dtype = torch.long)\n",
        "\n",
        "      generated_ids = model.generate(\n",
        "          input_ids = ids,\n",
        "          attention_mask = mask, \n",
        "          max_length=25, \n",
        "          num_beams=3,\n",
        "          repetition_penalty=2.5, \n",
        "          length_penalty=1.0, \n",
        "          early_stopping=True\n",
        "          )\n",
        "\n",
        "      # get words from ids\n",
        "      prediction = [tokenizer.decode(g, skip_special_tokens=True, clean_up_tokenization_spaces=True) for g in generated_ids]\n",
        "    \n",
        "  return prediction"
      ]
    },
    {
      "cell_type": "code",
      "execution_count": null,
      "metadata": {
        "id": "ustozcrpXrZ2"
      },
      "outputs": [],
      "source": [
        "def T5Inference(data, tokenizer, model, device, model_params):\n",
        "  \n",
        "  \"\"\"\n",
        "  T5 inference for a single sample\n",
        "  \"\"\"\n",
        "  def text2input(source_text, MAX_SOURCE_TEXT_LENGTH=75): \n",
        "    # prepare data\n",
        "    source_text = str(source_text)\n",
        "    source_text = ' '.join(source_text.split())\n",
        "    # from text to ids\n",
        "    source = tokenizer.batch_encode_plus([source_text], max_length=MAX_SOURCE_TEXT_LENGTH, pad_to_max_length=True, \n",
        "                                         truncation=True, padding=\"max_length\", return_tensors='pt')\n",
        "    source_ids = source['input_ids'].squeeze().view(1, -1)\n",
        "    source_mask = source['attention_mask'].squeeze().view(1, -1)\n",
        "    \n",
        "    return {'source_ids': source_ids.to(dtype=torch.long), 'source_mask': source_mask.to(dtype=torch.long)}\n",
        "\n",
        "  # generate question\n",
        "  input = text2input(data, model_params['MAX_SOURCE_TEXT_LENGTH'])\n",
        "  print(input['source_ids'].shape)\n",
        "  prediction = infer(tokenizer, model, device, input)\n",
        "  return prediction"
      ]
    },
    {
      "cell_type": "code",
      "execution_count": null,
      "metadata": {
        "id": "rOgK2TOwJePC"
      },
      "outputs": [],
      "source": [
        "device = \"cuda\" if torch.cuda.is_available() else \"cpu\"\n",
        "\n",
        "my_model_params = { \"MODEL_DIR\": \"./outputs/final/\", \n",
        "                   \"MAX_SOURCE_TEXT_LENGTH\": 75\n",
        "                   } \n",
        "\n",
        "# encode text\n",
        "tokenizer = T5Tokenizer.from_pretrained(my_model_params[\"MODEL_DIR\"])\n",
        "\n",
        "# using T5 with language model layer\n",
        "model = T5ForConditionalGeneration.from_pretrained(my_model_params[\"MODEL_DIR\"])\n",
        "model = model.to(device)  "
      ]
    },
    {
      "cell_type": "code",
      "execution_count": null,
      "metadata": {
        "colab": {
          "base_uri": "https://localhost:8080/"
        },
        "id": "GxGPyAcuNA3j",
        "outputId": "593e0163-5390-4f35-916e-a524dbbdb305"
      },
      "outputs": [],
      "source": [
        "# prepare input\n",
        "answer = \"Lorentz's Law\"\n",
        "sentence = \"Through combining the definition of electric current as the time rate of change of electric charge, a rule of vector multiplication called Lorentz's Law describes the force on a charge moving in a magnetic field.\"\n",
        "qg_input = f\"<answer> {answer} <context> {sentence}\"\n",
        "\n",
        "# generate question\n",
        "T5Inference(qg_input, tokenizer, model, device, my_model_params)"
      ]
    }
  ],
  "metadata": {
    "accelerator": "GPU",
    "colab": {
      "collapsed_sections": [],
      "name": "t5_finetuning.ipynb",
      "provenance": []
    },
    "gpuClass": "standard",
    "kernelspec": {
      "display_name": "Python 3.8.3 ('base')",
      "language": "python",
      "name": "python3"
    },
    "language_info": {
      "name": "python",
      "version": "3.8.3"
    },
    "vscode": {
      "interpreter": {
        "hash": "f08154012ddadd8e950e6e9e035c7a7b32c136e7647e9b7c77e02eb723a8bedb"
      }
    },
    "widgets": {
      "application/vnd.jupyter.widget-state+json": {
        "1c85eccb3b674506b481e93261b87a7c": {
          "model_module": "@jupyter-widgets/controls",
          "model_module_version": "1.5.0",
          "model_name": "HTMLModel",
          "state": {
            "_dom_classes": [],
            "_model_module": "@jupyter-widgets/controls",
            "_model_module_version": "1.5.0",
            "_model_name": "HTMLModel",
            "_view_count": null,
            "_view_module": "@jupyter-widgets/controls",
            "_view_module_version": "1.5.0",
            "_view_name": "HTMLView",
            "description": "",
            "description_tooltip": null,
            "layout": "IPY_MODEL_7510dc49241b415eae8d52c939c982a2",
            "placeholder": "​",
            "style": "IPY_MODEL_b2f56981b35b435381b1a07b8324c4b7",
            "value": "Downloading builder script: "
          }
        },
        "2b05fccad5374783a792c7546699efe7": {
          "model_module": "@jupyter-widgets/base",
          "model_module_version": "1.2.0",
          "model_name": "LayoutModel",
          "state": {
            "_model_module": "@jupyter-widgets/base",
            "_model_module_version": "1.2.0",
            "_model_name": "LayoutModel",
            "_view_count": null,
            "_view_module": "@jupyter-widgets/base",
            "_view_module_version": "1.2.0",
            "_view_name": "LayoutView",
            "align_content": null,
            "align_items": null,
            "align_self": null,
            "border": null,
            "bottom": null,
            "display": null,
            "flex": null,
            "flex_flow": null,
            "grid_area": null,
            "grid_auto_columns": null,
            "grid_auto_flow": null,
            "grid_auto_rows": null,
            "grid_column": null,
            "grid_gap": null,
            "grid_row": null,
            "grid_template_areas": null,
            "grid_template_columns": null,
            "grid_template_rows": null,
            "height": null,
            "justify_content": null,
            "justify_items": null,
            "left": null,
            "margin": null,
            "max_height": null,
            "max_width": null,
            "min_height": null,
            "min_width": null,
            "object_fit": null,
            "object_position": null,
            "order": null,
            "overflow": null,
            "overflow_x": null,
            "overflow_y": null,
            "padding": null,
            "right": null,
            "top": null,
            "visibility": null,
            "width": null
          }
        },
        "2f39ce4cebbe4401828a2726a51f74cb": {
          "model_module": "@jupyter-widgets/controls",
          "model_module_version": "1.5.0",
          "model_name": "HTMLModel",
          "state": {
            "_dom_classes": [],
            "_model_module": "@jupyter-widgets/controls",
            "_model_module_version": "1.5.0",
            "_model_name": "HTMLModel",
            "_view_count": null,
            "_view_module": "@jupyter-widgets/controls",
            "_view_module_version": "1.5.0",
            "_view_name": "HTMLView",
            "description": "",
            "description_tooltip": null,
            "layout": "IPY_MODEL_3b24bc0a9f3a4dbbad7e95168b2c8051",
            "placeholder": "​",
            "style": "IPY_MODEL_983a8c4edbf8450292a4e4f3b1246ff8",
            "value": " 5.60k/? [00:00&lt;00:00, 148kB/s]"
          }
        },
        "3644cc8a6bbe499f92cae79aa0948d4d": {
          "model_module": "@jupyter-widgets/base",
          "model_module_version": "1.2.0",
          "model_name": "LayoutModel",
          "state": {
            "_model_module": "@jupyter-widgets/base",
            "_model_module_version": "1.2.0",
            "_model_name": "LayoutModel",
            "_view_count": null,
            "_view_module": "@jupyter-widgets/base",
            "_view_module_version": "1.2.0",
            "_view_name": "LayoutView",
            "align_content": null,
            "align_items": null,
            "align_self": null,
            "border": null,
            "bottom": null,
            "display": null,
            "flex": null,
            "flex_flow": null,
            "grid_area": null,
            "grid_auto_columns": null,
            "grid_auto_flow": null,
            "grid_auto_rows": null,
            "grid_column": null,
            "grid_gap": null,
            "grid_row": null,
            "grid_template_areas": null,
            "grid_template_columns": null,
            "grid_template_rows": null,
            "height": null,
            "justify_content": null,
            "justify_items": null,
            "left": null,
            "margin": null,
            "max_height": null,
            "max_width": null,
            "min_height": null,
            "min_width": null,
            "object_fit": null,
            "object_position": null,
            "order": null,
            "overflow": null,
            "overflow_x": null,
            "overflow_y": null,
            "padding": null,
            "right": null,
            "top": null,
            "visibility": null,
            "width": null
          }
        },
        "36d5e98c5d274e8e9d7f97a7889be643": {
          "model_module": "@jupyter-widgets/controls",
          "model_module_version": "1.5.0",
          "model_name": "HBoxModel",
          "state": {
            "_dom_classes": [],
            "_model_module": "@jupyter-widgets/controls",
            "_model_module_version": "1.5.0",
            "_model_name": "HBoxModel",
            "_view_count": null,
            "_view_module": "@jupyter-widgets/controls",
            "_view_module_version": "1.5.0",
            "_view_name": "HBoxView",
            "box_style": "",
            "children": [
              "IPY_MODEL_42f14d738724446b9933be8068239b91",
              "IPY_MODEL_5cbc8a0415944ced9db091045b56df68",
              "IPY_MODEL_2f39ce4cebbe4401828a2726a51f74cb"
            ],
            "layout": "IPY_MODEL_a8fd77a1a7a4442a975c1b5c1d08681e"
          }
        },
        "3b24bc0a9f3a4dbbad7e95168b2c8051": {
          "model_module": "@jupyter-widgets/base",
          "model_module_version": "1.2.0",
          "model_name": "LayoutModel",
          "state": {
            "_model_module": "@jupyter-widgets/base",
            "_model_module_version": "1.2.0",
            "_model_name": "LayoutModel",
            "_view_count": null,
            "_view_module": "@jupyter-widgets/base",
            "_view_module_version": "1.2.0",
            "_view_name": "LayoutView",
            "align_content": null,
            "align_items": null,
            "align_self": null,
            "border": null,
            "bottom": null,
            "display": null,
            "flex": null,
            "flex_flow": null,
            "grid_area": null,
            "grid_auto_columns": null,
            "grid_auto_flow": null,
            "grid_auto_rows": null,
            "grid_column": null,
            "grid_gap": null,
            "grid_row": null,
            "grid_template_areas": null,
            "grid_template_columns": null,
            "grid_template_rows": null,
            "height": null,
            "justify_content": null,
            "justify_items": null,
            "left": null,
            "margin": null,
            "max_height": null,
            "max_width": null,
            "min_height": null,
            "min_width": null,
            "object_fit": null,
            "object_position": null,
            "order": null,
            "overflow": null,
            "overflow_x": null,
            "overflow_y": null,
            "padding": null,
            "right": null,
            "top": null,
            "visibility": null,
            "width": null
          }
        },
        "3c2ab6bbf1b044ab82e7904cb9276a8f": {
          "model_module": "@jupyter-widgets/controls",
          "model_module_version": "1.5.0",
          "model_name": "ProgressStyleModel",
          "state": {
            "_model_module": "@jupyter-widgets/controls",
            "_model_module_version": "1.5.0",
            "_model_name": "ProgressStyleModel",
            "_view_count": null,
            "_view_module": "@jupyter-widgets/base",
            "_view_module_version": "1.2.0",
            "_view_name": "StyleView",
            "bar_color": null,
            "description_width": ""
          }
        },
        "3c366825edc4455f99af91397e7a764e": {
          "model_module": "@jupyter-widgets/controls",
          "model_module_version": "1.5.0",
          "model_name": "FloatProgressModel",
          "state": {
            "_dom_classes": [],
            "_model_module": "@jupyter-widgets/controls",
            "_model_module_version": "1.5.0",
            "_model_name": "FloatProgressModel",
            "_view_count": null,
            "_view_module": "@jupyter-widgets/controls",
            "_view_module_version": "1.5.0",
            "_view_name": "ProgressView",
            "bar_style": "success",
            "description": "",
            "description_tooltip": null,
            "layout": "IPY_MODEL_2b05fccad5374783a792c7546699efe7",
            "max": 2848,
            "min": 0,
            "orientation": "horizontal",
            "style": "IPY_MODEL_3c2ab6bbf1b044ab82e7904cb9276a8f",
            "value": 2848
          }
        },
        "42f14d738724446b9933be8068239b91": {
          "model_module": "@jupyter-widgets/controls",
          "model_module_version": "1.5.0",
          "model_name": "HTMLModel",
          "state": {
            "_dom_classes": [],
            "_model_module": "@jupyter-widgets/controls",
            "_model_module_version": "1.5.0",
            "_model_name": "HTMLModel",
            "_view_count": null,
            "_view_module": "@jupyter-widgets/controls",
            "_view_module_version": "1.5.0",
            "_view_name": "HTMLView",
            "description": "",
            "description_tooltip": null,
            "layout": "IPY_MODEL_93b38be88d964c759535aa788d1cc4a5",
            "placeholder": "​",
            "style": "IPY_MODEL_d045d0668c304cf48fbaf1ce10effdaf",
            "value": "Downloading builder script: "
          }
        },
        "5cbc8a0415944ced9db091045b56df68": {
          "model_module": "@jupyter-widgets/controls",
          "model_module_version": "1.5.0",
          "model_name": "FloatProgressModel",
          "state": {
            "_dom_classes": [],
            "_model_module": "@jupyter-widgets/controls",
            "_model_module_version": "1.5.0",
            "_model_name": "FloatProgressModel",
            "_view_count": null,
            "_view_module": "@jupyter-widgets/controls",
            "_view_module_version": "1.5.0",
            "_view_name": "ProgressView",
            "bar_style": "success",
            "description": "",
            "description_tooltip": null,
            "layout": "IPY_MODEL_d5987176e12a4274aca00e2fb58d4395",
            "max": 2160,
            "min": 0,
            "orientation": "horizontal",
            "style": "IPY_MODEL_a983f064b5834552957e0c549cd06039",
            "value": 2160
          }
        },
        "7510dc49241b415eae8d52c939c982a2": {
          "model_module": "@jupyter-widgets/base",
          "model_module_version": "1.2.0",
          "model_name": "LayoutModel",
          "state": {
            "_model_module": "@jupyter-widgets/base",
            "_model_module_version": "1.2.0",
            "_model_name": "LayoutModel",
            "_view_count": null,
            "_view_module": "@jupyter-widgets/base",
            "_view_module_version": "1.2.0",
            "_view_name": "LayoutView",
            "align_content": null,
            "align_items": null,
            "align_self": null,
            "border": null,
            "bottom": null,
            "display": null,
            "flex": null,
            "flex_flow": null,
            "grid_area": null,
            "grid_auto_columns": null,
            "grid_auto_flow": null,
            "grid_auto_rows": null,
            "grid_column": null,
            "grid_gap": null,
            "grid_row": null,
            "grid_template_areas": null,
            "grid_template_columns": null,
            "grid_template_rows": null,
            "height": null,
            "justify_content": null,
            "justify_items": null,
            "left": null,
            "margin": null,
            "max_height": null,
            "max_width": null,
            "min_height": null,
            "min_width": null,
            "object_fit": null,
            "object_position": null,
            "order": null,
            "overflow": null,
            "overflow_x": null,
            "overflow_y": null,
            "padding": null,
            "right": null,
            "top": null,
            "visibility": null,
            "width": null
          }
        },
        "7def54c90a144bc6aa9ae52ce00bfb9d": {
          "model_module": "@jupyter-widgets/base",
          "model_module_version": "1.2.0",
          "model_name": "LayoutModel",
          "state": {
            "_model_module": "@jupyter-widgets/base",
            "_model_module_version": "1.2.0",
            "_model_name": "LayoutModel",
            "_view_count": null,
            "_view_module": "@jupyter-widgets/base",
            "_view_module_version": "1.2.0",
            "_view_name": "LayoutView",
            "align_content": null,
            "align_items": null,
            "align_self": null,
            "border": null,
            "bottom": null,
            "display": null,
            "flex": null,
            "flex_flow": null,
            "grid_area": null,
            "grid_auto_columns": null,
            "grid_auto_flow": null,
            "grid_auto_rows": null,
            "grid_column": null,
            "grid_gap": null,
            "grid_row": null,
            "grid_template_areas": null,
            "grid_template_columns": null,
            "grid_template_rows": null,
            "height": null,
            "justify_content": null,
            "justify_items": null,
            "left": null,
            "margin": null,
            "max_height": null,
            "max_width": null,
            "min_height": null,
            "min_width": null,
            "object_fit": null,
            "object_position": null,
            "order": null,
            "overflow": null,
            "overflow_x": null,
            "overflow_y": null,
            "padding": null,
            "right": null,
            "top": null,
            "visibility": null,
            "width": null
          }
        },
        "93b38be88d964c759535aa788d1cc4a5": {
          "model_module": "@jupyter-widgets/base",
          "model_module_version": "1.2.0",
          "model_name": "LayoutModel",
          "state": {
            "_model_module": "@jupyter-widgets/base",
            "_model_module_version": "1.2.0",
            "_model_name": "LayoutModel",
            "_view_count": null,
            "_view_module": "@jupyter-widgets/base",
            "_view_module_version": "1.2.0",
            "_view_name": "LayoutView",
            "align_content": null,
            "align_items": null,
            "align_self": null,
            "border": null,
            "bottom": null,
            "display": null,
            "flex": null,
            "flex_flow": null,
            "grid_area": null,
            "grid_auto_columns": null,
            "grid_auto_flow": null,
            "grid_auto_rows": null,
            "grid_column": null,
            "grid_gap": null,
            "grid_row": null,
            "grid_template_areas": null,
            "grid_template_columns": null,
            "grid_template_rows": null,
            "height": null,
            "justify_content": null,
            "justify_items": null,
            "left": null,
            "margin": null,
            "max_height": null,
            "max_width": null,
            "min_height": null,
            "min_width": null,
            "object_fit": null,
            "object_position": null,
            "order": null,
            "overflow": null,
            "overflow_x": null,
            "overflow_y": null,
            "padding": null,
            "right": null,
            "top": null,
            "visibility": null,
            "width": null
          }
        },
        "983a8c4edbf8450292a4e4f3b1246ff8": {
          "model_module": "@jupyter-widgets/controls",
          "model_module_version": "1.5.0",
          "model_name": "DescriptionStyleModel",
          "state": {
            "_model_module": "@jupyter-widgets/controls",
            "_model_module_version": "1.5.0",
            "_model_name": "DescriptionStyleModel",
            "_view_count": null,
            "_view_module": "@jupyter-widgets/base",
            "_view_module_version": "1.2.0",
            "_view_name": "StyleView",
            "description_width": ""
          }
        },
        "a76c78949456478ab8bcaf3c1d71eb35": {
          "model_module": "@jupyter-widgets/controls",
          "model_module_version": "1.5.0",
          "model_name": "DescriptionStyleModel",
          "state": {
            "_model_module": "@jupyter-widgets/controls",
            "_model_module_version": "1.5.0",
            "_model_name": "DescriptionStyleModel",
            "_view_count": null,
            "_view_module": "@jupyter-widgets/base",
            "_view_module_version": "1.2.0",
            "_view_name": "StyleView",
            "description_width": ""
          }
        },
        "a8fd77a1a7a4442a975c1b5c1d08681e": {
          "model_module": "@jupyter-widgets/base",
          "model_module_version": "1.2.0",
          "model_name": "LayoutModel",
          "state": {
            "_model_module": "@jupyter-widgets/base",
            "_model_module_version": "1.2.0",
            "_model_name": "LayoutModel",
            "_view_count": null,
            "_view_module": "@jupyter-widgets/base",
            "_view_module_version": "1.2.0",
            "_view_name": "LayoutView",
            "align_content": null,
            "align_items": null,
            "align_self": null,
            "border": null,
            "bottom": null,
            "display": null,
            "flex": null,
            "flex_flow": null,
            "grid_area": null,
            "grid_auto_columns": null,
            "grid_auto_flow": null,
            "grid_auto_rows": null,
            "grid_column": null,
            "grid_gap": null,
            "grid_row": null,
            "grid_template_areas": null,
            "grid_template_columns": null,
            "grid_template_rows": null,
            "height": null,
            "justify_content": null,
            "justify_items": null,
            "left": null,
            "margin": null,
            "max_height": null,
            "max_width": null,
            "min_height": null,
            "min_width": null,
            "object_fit": null,
            "object_position": null,
            "order": null,
            "overflow": null,
            "overflow_x": null,
            "overflow_y": null,
            "padding": null,
            "right": null,
            "top": null,
            "visibility": null,
            "width": null
          }
        },
        "a983f064b5834552957e0c549cd06039": {
          "model_module": "@jupyter-widgets/controls",
          "model_module_version": "1.5.0",
          "model_name": "ProgressStyleModel",
          "state": {
            "_model_module": "@jupyter-widgets/controls",
            "_model_module_version": "1.5.0",
            "_model_name": "ProgressStyleModel",
            "_view_count": null,
            "_view_module": "@jupyter-widgets/base",
            "_view_module_version": "1.2.0",
            "_view_name": "StyleView",
            "bar_color": null,
            "description_width": ""
          }
        },
        "aca7b962bbf845a99e662499e8e4fae1": {
          "model_module": "@jupyter-widgets/controls",
          "model_module_version": "1.5.0",
          "model_name": "HTMLModel",
          "state": {
            "_dom_classes": [],
            "_model_module": "@jupyter-widgets/controls",
            "_model_module_version": "1.5.0",
            "_model_name": "HTMLModel",
            "_view_count": null,
            "_view_module": "@jupyter-widgets/controls",
            "_view_module_version": "1.5.0",
            "_view_name": "HTMLView",
            "description": "",
            "description_tooltip": null,
            "layout": "IPY_MODEL_7def54c90a144bc6aa9ae52ce00bfb9d",
            "placeholder": "​",
            "style": "IPY_MODEL_a76c78949456478ab8bcaf3c1d71eb35",
            "value": " 7.65k/? [00:00&lt;00:00, 216kB/s]"
          }
        },
        "b2f56981b35b435381b1a07b8324c4b7": {
          "model_module": "@jupyter-widgets/controls",
          "model_module_version": "1.5.0",
          "model_name": "DescriptionStyleModel",
          "state": {
            "_model_module": "@jupyter-widgets/controls",
            "_model_module_version": "1.5.0",
            "_model_name": "DescriptionStyleModel",
            "_view_count": null,
            "_view_module": "@jupyter-widgets/base",
            "_view_module_version": "1.2.0",
            "_view_name": "StyleView",
            "description_width": ""
          }
        },
        "bda282f8e8b8420baa64168f1e633254": {
          "model_module": "@jupyter-widgets/controls",
          "model_module_version": "1.5.0",
          "model_name": "HBoxModel",
          "state": {
            "_dom_classes": [],
            "_model_module": "@jupyter-widgets/controls",
            "_model_module_version": "1.5.0",
            "_model_name": "HBoxModel",
            "_view_count": null,
            "_view_module": "@jupyter-widgets/controls",
            "_view_module_version": "1.5.0",
            "_view_name": "HBoxView",
            "box_style": "",
            "children": [
              "IPY_MODEL_1c85eccb3b674506b481e93261b87a7c",
              "IPY_MODEL_3c366825edc4455f99af91397e7a764e",
              "IPY_MODEL_aca7b962bbf845a99e662499e8e4fae1"
            ],
            "layout": "IPY_MODEL_3644cc8a6bbe499f92cae79aa0948d4d"
          }
        },
        "d045d0668c304cf48fbaf1ce10effdaf": {
          "model_module": "@jupyter-widgets/controls",
          "model_module_version": "1.5.0",
          "model_name": "DescriptionStyleModel",
          "state": {
            "_model_module": "@jupyter-widgets/controls",
            "_model_module_version": "1.5.0",
            "_model_name": "DescriptionStyleModel",
            "_view_count": null,
            "_view_module": "@jupyter-widgets/base",
            "_view_module_version": "1.2.0",
            "_view_name": "StyleView",
            "description_width": ""
          }
        },
        "d5987176e12a4274aca00e2fb58d4395": {
          "model_module": "@jupyter-widgets/base",
          "model_module_version": "1.2.0",
          "model_name": "LayoutModel",
          "state": {
            "_model_module": "@jupyter-widgets/base",
            "_model_module_version": "1.2.0",
            "_model_name": "LayoutModel",
            "_view_count": null,
            "_view_module": "@jupyter-widgets/base",
            "_view_module_version": "1.2.0",
            "_view_name": "LayoutView",
            "align_content": null,
            "align_items": null,
            "align_self": null,
            "border": null,
            "bottom": null,
            "display": null,
            "flex": null,
            "flex_flow": null,
            "grid_area": null,
            "grid_auto_columns": null,
            "grid_auto_flow": null,
            "grid_auto_rows": null,
            "grid_column": null,
            "grid_gap": null,
            "grid_row": null,
            "grid_template_areas": null,
            "grid_template_columns": null,
            "grid_template_rows": null,
            "height": null,
            "justify_content": null,
            "justify_items": null,
            "left": null,
            "margin": null,
            "max_height": null,
            "max_width": null,
            "min_height": null,
            "min_width": null,
            "object_fit": null,
            "object_position": null,
            "order": null,
            "overflow": null,
            "overflow_x": null,
            "overflow_y": null,
            "padding": null,
            "right": null,
            "top": null,
            "visibility": null,
            "width": null
          }
        }
      }
    }
  },
  "nbformat": 4,
  "nbformat_minor": 0
}
