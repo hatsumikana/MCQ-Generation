{
 "cells": [
  {
   "cell_type": "markdown",
   "metadata": {},
   "source": [
    "## Method 1"
   ]
  },
  {
   "cell_type": "code",
   "execution_count": 1,
   "metadata": {},
   "outputs": [],
   "source": [
    "import matplotlib.pyplot as plt\n",
    "import numpy as np\n",
    "import tensorflow as tf\n",
    "\n",
    "import tensorflow_datasets as tfds"
   ]
  },
  {
   "cell_type": "code",
   "execution_count": 2,
   "metadata": {},
   "outputs": [],
   "source": [
    "ds = tfds.load('squad', split='train', shuffle_files=True)\n",
    "assert isinstance(ds, tf.data.Dataset)"
   ]
  },
  {
   "cell_type": "code",
   "execution_count": 10,
   "metadata": {},
   "outputs": [],
   "source": [
    "for i in ds:\n",
    "    pass"
   ]
  },
  {
   "cell_type": "markdown",
   "metadata": {},
   "source": [
    "## Method 2 (Used)"
   ]
  },
  {
   "cell_type": "code",
   "execution_count": 4,
   "metadata": {},
   "outputs": [
    {
     "name": "stdout",
     "output_type": "stream",
     "text": [
      "Requirement already satisfied: pandas in c:\\users\\mihir\\anaconda3\\lib\\site-packages (1.3.4)\n",
      "Requirement already satisfied: numpy>=1.17.3; platform_machine != \"aarch64\" and platform_machine != \"arm64\" and python_version < \"3.10\" in c:\\users\\mihir\\anaconda3\\lib\\site-packages (from pandas) (1.21.5)\n",
      "Requirement already satisfied: python-dateutil>=2.7.3 in c:\\users\\mihir\\anaconda3\\lib\\site-packages (from pandas) (2.8.1)\n",
      "Requirement already satisfied: pytz>=2017.3 in c:\\users\\mihir\\anaconda3\\lib\\site-packages (from pandas) (2019.3)\n",
      "Requirement already satisfied: six>=1.5 in c:\\users\\mihir\\anaconda3\\lib\\site-packages (from python-dateutil>=2.7.3->pandas) (1.15.0)\n",
      "Note: you may need to restart the kernel to use updated packages.\n"
     ]
    }
   ],
   "source": [
    "pip install pandas"
   ]
  },
  {
   "cell_type": "code",
   "execution_count": 1,
   "metadata": {},
   "outputs": [],
   "source": [
    "import json\n",
    "import pandas as pd"
   ]
  },
  {
   "cell_type": "code",
   "execution_count": 2,
   "metadata": {},
   "outputs": [],
   "source": [
    "f = open('train-v2.0.json')\n",
    "json_file = json.load(f)"
   ]
  },
  {
   "cell_type": "code",
   "execution_count": null,
   "metadata": {},
   "outputs": [],
   "source": [
    "title = []\n",
    "context = []\n",
    "question = []\n",
    "answer = []\n",
    "for i in json_file['data']:\n",
    "    title.append(i['title'])\n",
    "    tempq = []\n",
    "    tempa = []\n",
    "    tempc = ''\n",
    "    for j in i['paragraphs']:\n",
    "        tempc += j['context'] + ' '\n",
    "        for k in j['qas']:\n",
    "            if len(k['answers']) == 0:\n",
    "                continue\n",
    "            tempq.append(k['question'])\n",
    "            tempa.append(k['answers'][0])\n",
    "    context.append(tempc)\n",
    "    question.append(tempq)\n",
    "    answer.append(tempa)"
   ]
  },
  {
   "cell_type": "code",
   "execution_count": 37,
   "metadata": {},
   "outputs": [],
   "source": [
    "from nltk.tokenize import sent_tokenize"
   ]
  },
  {
   "cell_type": "code",
   "execution_count": 57,
   "metadata": {},
   "outputs": [],
   "source": [
    "f = open('train-v2.0.json')\n",
    "json_file = json.load(f)"
   ]
  },
  {
   "cell_type": "code",
   "execution_count": 81,
   "metadata": {},
   "outputs": [
    {
     "name": "stdout",
     "output_type": "stream",
     "text": [
      "Exact span found for 0.998 of data\n"
     ]
    }
   ],
   "source": [
    "qg_dataset = []\n",
    "num_qa = 0\n",
    "num_exact = 0 \n",
    "\n",
    "for i in json_file['data']:\n",
    "    title = i['title']\n",
    "    context = []\n",
    "    question = []\n",
    "    answer = []\n",
    "    for j in i['paragraphs']:\n",
    "        for k in j['qas']:\n",
    "            if len(k['answers']) == 0:\n",
    "                continue\n",
    "            \n",
    "            num_qa+=1\n",
    "            qg_row = {}\n",
    "\n",
    "            qg_row['question'] = k['question']\n",
    "            sentences = sent_tokenize(j['context'])\n",
    "            found = False\n",
    "            for ans in k['answers']:\n",
    "                for s in range(len(sentences)):\n",
    "                    if ans['text'] in sentences[s] and not found:\n",
    "                        num_exact+=1\n",
    "                        sent = sentences[s]\n",
    "                        found = True\n",
    "                        break\n",
    "                    \n",
    "            qg_row['sentence'] = sent\n",
    "            qg_row['answer'] = ans['text']\n",
    "            qg_row['context'] = j['context']\n",
    "            qg_row['exact'] = found\n",
    "            qg_dataset.append(qg_row)\n",
    "            \n",
    "print(f\"Exact span found for {round(num_exact/num_qa, 3)} of data\")"
   ]
  },
  {
   "cell_type": "code",
   "execution_count": 82,
   "metadata": {},
   "outputs": [],
   "source": [
    "qg_df = pd.DataFrame(qg_dataset)"
   ]
  },
  {
   "cell_type": "code",
   "execution_count": 83,
   "metadata": {},
   "outputs": [
    {
     "data": {
      "text/plain": [
       "{'question': 'When did Beyonce start becoming popular?',\n",
       " 'sentence': \"Born and raised in Houston, Texas, she performed in various singing and dancing competitions as a child, and rose to fame in the late 1990s as lead singer of R&B girl-group Destiny's Child.\",\n",
       " 'answer': 'in the late 1990s',\n",
       " 'context': 'Beyoncé Giselle Knowles-Carter (/biːˈjɒnseɪ/ bee-YON-say) (born September 4, 1981) is an American singer, songwriter, record producer and actress. Born and raised in Houston, Texas, she performed in various singing and dancing competitions as a child, and rose to fame in the late 1990s as lead singer of R&B girl-group Destiny\\'s Child. Managed by her father, Mathew Knowles, the group became one of the world\\'s best-selling girl groups of all time. Their hiatus saw the release of Beyoncé\\'s debut album, Dangerously in Love (2003), which established her as a solo artist worldwide, earned five Grammy Awards and featured the Billboard Hot 100 number-one singles \"Crazy in Love\" and \"Baby Boy\".',\n",
       " 'exact': True}"
      ]
     },
     "execution_count": 83,
     "metadata": {},
     "output_type": "execute_result"
    }
   ],
   "source": [
    "qg_df.iloc[0].to_dict()"
   ]
  },
  {
   "cell_type": "code",
   "execution_count": 84,
   "metadata": {},
   "outputs": [
    {
     "data": {
      "text/html": [
       "<div>\n",
       "<style scoped>\n",
       "    .dataframe tbody tr th:only-of-type {\n",
       "        vertical-align: middle;\n",
       "    }\n",
       "\n",
       "    .dataframe tbody tr th {\n",
       "        vertical-align: top;\n",
       "    }\n",
       "\n",
       "    .dataframe thead th {\n",
       "        text-align: right;\n",
       "    }\n",
       "</style>\n",
       "<table border=\"1\" class=\"dataframe\">\n",
       "  <thead>\n",
       "    <tr style=\"text-align: right;\">\n",
       "      <th></th>\n",
       "      <th>question</th>\n",
       "      <th>sentence</th>\n",
       "      <th>answer</th>\n",
       "      <th>context</th>\n",
       "      <th>exact</th>\n",
       "    </tr>\n",
       "  </thead>\n",
       "  <tbody>\n",
       "    <tr>\n",
       "      <th>895</th>\n",
       "      <td>What was the first of Chopin's works to gain i...</td>\n",
       "      <td>The success of this concert led to an invitati...</td>\n",
       "      <td>Rondo Op. 1</td>\n",
       "      <td>From September 1823 to 1826 Chopin attended th...</td>\n",
       "      <td>False</td>\n",
       "    </tr>\n",
       "    <tr>\n",
       "      <th>900</th>\n",
       "      <td>What is the title of his first commercially su...</td>\n",
       "      <td>The success of this concert led to an invitati...</td>\n",
       "      <td>Rondo Op. 1.</td>\n",
       "      <td>From September 1823 to 1826 Chopin attended th...</td>\n",
       "      <td>False</td>\n",
       "    </tr>\n",
       "    <tr>\n",
       "      <th>928</th>\n",
       "      <td>Which of Chopin's works was unknowingly dedica...</td>\n",
       "      <td>He was also attracted to the singing student K...</td>\n",
       "      <td>Piano Concerto No. 1 (in E minor)</td>\n",
       "      <td>Four boarders at his parents' apartments becam...</td>\n",
       "      <td>False</td>\n",
       "    </tr>\n",
       "    <tr>\n",
       "      <th>933</th>\n",
       "      <td>What musical piece had a Larghetto dedicated t...</td>\n",
       "      <td>Four boarders at his parents' apartments becam...</td>\n",
       "      <td>Piano Concerto No. 1 (in E minor)</td>\n",
       "      <td>Four boarders at his parents' apartments becam...</td>\n",
       "      <td>False</td>\n",
       "    </tr>\n",
       "    <tr>\n",
       "      <th>938</th>\n",
       "      <td>What piece did Frédéric create specifically fo...</td>\n",
       "      <td>On an 1829 return trip to Berlin, he was a gue...</td>\n",
       "      <td>Introduction and Polonaise brillante in C majo...</td>\n",
       "      <td>In September 1828 Chopin, while still a studen...</td>\n",
       "      <td>False</td>\n",
       "    </tr>\n",
       "    <tr>\n",
       "      <th>...</th>\n",
       "      <td>...</td>\n",
       "      <td>...</td>\n",
       "      <td>...</td>\n",
       "      <td>...</td>\n",
       "      <td>...</td>\n",
       "    </tr>\n",
       "    <tr>\n",
       "      <th>85043</th>\n",
       "      <td>Which president did Notre Dame have in 1947?</td>\n",
       "      <td>He wrote, \"Notre Dame football is a spiritual ...</td>\n",
       "      <td>Rev. John J. Cavanaugh, C.S.C.</td>\n",
       "      <td>The Rev. John J. Cavanaugh, C.S.C. served as p...</td>\n",
       "      <td>False</td>\n",
       "    </tr>\n",
       "    <tr>\n",
       "      <th>85073</th>\n",
       "      <td>Which person oversaw the creation of a science...</td>\n",
       "      <td>The Grotto of Our Lady of Lourdes, which was b...</td>\n",
       "      <td>Fr. Zahm</td>\n",
       "      <td>A Science Hall was built in 1883 under the dir...</td>\n",
       "      <td>False</td>\n",
       "    </tr>\n",
       "    <tr>\n",
       "      <th>85249</th>\n",
       "      <td>Who is responsible for writing the music for \"...</td>\n",
       "      <td>Michael J. Shea, a 1904 graduate, wrote the mu...</td>\n",
       "      <td>Rev. Michael J. Shea</td>\n",
       "      <td>The \"Notre Dame Victory March\" is the fight so...</td>\n",
       "      <td>False</td>\n",
       "    </tr>\n",
       "    <tr>\n",
       "      <th>85259</th>\n",
       "      <td>Who is the current president of Notre Dame?</td>\n",
       "      <td>A notable alumnus of the College of Science is...</td>\n",
       "      <td>Rev. John Jenkins</td>\n",
       "      <td>Notre Dame alumni work in various fields. Alum...</td>\n",
       "      <td>False</td>\n",
       "    </tr>\n",
       "    <tr>\n",
       "      <th>85971</th>\n",
       "      <td>Who did Landis Gores design a home for?</td>\n",
       "      <td>Harris residence in Richmond was designed by f...</td>\n",
       "      <td>W.G. Harris</td>\n",
       "      <td>Richmond is home to several notable instances ...</td>\n",
       "      <td>False</td>\n",
       "    </tr>\n",
       "  </tbody>\n",
       "</table>\n",
       "<p>214 rows × 5 columns</p>\n",
       "</div>"
      ],
      "text/plain": [
       "                                                question  \\\n",
       "895    What was the first of Chopin's works to gain i...   \n",
       "900    What is the title of his first commercially su...   \n",
       "928    Which of Chopin's works was unknowingly dedica...   \n",
       "933    What musical piece had a Larghetto dedicated t...   \n",
       "938    What piece did Frédéric create specifically fo...   \n",
       "...                                                  ...   \n",
       "85043       Which president did Notre Dame have in 1947?   \n",
       "85073  Which person oversaw the creation of a science...   \n",
       "85249  Who is responsible for writing the music for \"...   \n",
       "85259        Who is the current president of Notre Dame?   \n",
       "85971            Who did Landis Gores design a home for?   \n",
       "\n",
       "                                                sentence  \\\n",
       "895    The success of this concert led to an invitati...   \n",
       "900    The success of this concert led to an invitati...   \n",
       "928    He was also attracted to the singing student K...   \n",
       "933    Four boarders at his parents' apartments becam...   \n",
       "938    On an 1829 return trip to Berlin, he was a gue...   \n",
       "...                                                  ...   \n",
       "85043  He wrote, \"Notre Dame football is a spiritual ...   \n",
       "85073  The Grotto of Our Lady of Lourdes, which was b...   \n",
       "85249  Michael J. Shea, a 1904 graduate, wrote the mu...   \n",
       "85259  A notable alumnus of the College of Science is...   \n",
       "85971  Harris residence in Richmond was designed by f...   \n",
       "\n",
       "                                                  answer  \\\n",
       "895                                          Rondo Op. 1   \n",
       "900                                         Rondo Op. 1.   \n",
       "928                    Piano Concerto No. 1 (in E minor)   \n",
       "933                    Piano Concerto No. 1 (in E minor)   \n",
       "938    Introduction and Polonaise brillante in C majo...   \n",
       "...                                                  ...   \n",
       "85043                     Rev. John J. Cavanaugh, C.S.C.   \n",
       "85073                                           Fr. Zahm   \n",
       "85249                               Rev. Michael J. Shea   \n",
       "85259                                  Rev. John Jenkins   \n",
       "85971                                        W.G. Harris   \n",
       "\n",
       "                                                 context  exact  \n",
       "895    From September 1823 to 1826 Chopin attended th...  False  \n",
       "900    From September 1823 to 1826 Chopin attended th...  False  \n",
       "928    Four boarders at his parents' apartments becam...  False  \n",
       "933    Four boarders at his parents' apartments becam...  False  \n",
       "938    In September 1828 Chopin, while still a studen...  False  \n",
       "...                                                  ...    ...  \n",
       "85043  The Rev. John J. Cavanaugh, C.S.C. served as p...  False  \n",
       "85073  A Science Hall was built in 1883 under the dir...  False  \n",
       "85249  The \"Notre Dame Victory March\" is the fight so...  False  \n",
       "85259  Notre Dame alumni work in various fields. Alum...  False  \n",
       "85971  Richmond is home to several notable instances ...  False  \n",
       "\n",
       "[214 rows x 5 columns]"
      ]
     },
     "execution_count": 84,
     "metadata": {},
     "output_type": "execute_result"
    }
   ],
   "source": [
    "# failed to identify sentence containing answer\n",
    "qg_df[qg_df['exact']==False]"
   ]
  },
  {
   "cell_type": "code",
   "execution_count": 87,
   "metadata": {},
   "outputs": [],
   "source": [
    "qg_df[qg_df['exact']==True].to_csv('qg_train.csv', encoding='utf-8')"
   ]
  },
  {
   "cell_type": "code",
   "execution_count": 10,
   "metadata": {},
   "outputs": [],
   "source": [
    "df = pd.DataFrame({'title':title, 'context':context, 'question':question, 'answer':answer})"
   ]
  },
  {
   "cell_type": "code",
   "execution_count": 15,
   "metadata": {},
   "outputs": [],
   "source": [
    "df.to_pickle('data.df')"
   ]
  },
  {
   "cell_type": "code",
   "execution_count": 16,
   "metadata": {},
   "outputs": [],
   "source": [
    "df = pd.read_pickle('data.df')"
   ]
  },
  {
   "cell_type": "code",
   "execution_count": 17,
   "metadata": {},
   "outputs": [],
   "source": [
    "for i in range(len(df)):\n",
    "    if len(df['question'][i])!=len(df['answer'][i]):\n",
    "        print('lol')"
   ]
  },
  {
   "cell_type": "code",
   "execution_count": null,
   "metadata": {},
   "outputs": [],
   "source": []
  }
 ],
 "metadata": {
  "kernelspec": {
   "display_name": "Python 3.8.3 ('base')",
   "language": "python",
   "name": "python3"
  },
  "language_info": {
   "codemirror_mode": {
    "name": "ipython",
    "version": 3
   },
   "file_extension": ".py",
   "mimetype": "text/x-python",
   "name": "python",
   "nbconvert_exporter": "python",
   "pygments_lexer": "ipython3",
   "version": "3.8.3"
  },
  "vscode": {
   "interpreter": {
    "hash": "f08154012ddadd8e950e6e9e035c7a7b32c136e7647e9b7c77e02eb723a8bedb"
   }
  }
 },
 "nbformat": 4,
 "nbformat_minor": 4
}
