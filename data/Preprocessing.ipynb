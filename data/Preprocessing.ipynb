{
 "cells": [
  {
   "cell_type": "markdown",
   "metadata": {},
   "source": [
    "## Method 1"
   ]
  },
  {
   "cell_type": "code",
   "execution_count": 1,
   "metadata": {},
   "outputs": [],
   "source": [
    "import matplotlib.pyplot as plt\n",
    "import numpy as np\n",
    "import tensorflow as tf\n",
    "\n",
    "import tensorflow_datasets as tfds"
   ]
  },
  {
   "cell_type": "code",
   "execution_count": 2,
   "metadata": {},
   "outputs": [],
   "source": [
    "ds = tfds.load('squad', split='train', shuffle_files=True)\n",
    "assert isinstance(ds, tf.data.Dataset)"
   ]
  },
  {
   "cell_type": "code",
   "execution_count": 10,
   "metadata": {},
   "outputs": [],
   "source": [
    "for i in ds:\n",
    "    pass"
   ]
  },
  {
   "cell_type": "markdown",
   "metadata": {},
   "source": [
    "## Method 2 (Used)"
   ]
  },
  {
   "cell_type": "code",
   "execution_count": 4,
   "metadata": {},
   "outputs": [
    {
     "name": "stdout",
     "output_type": "stream",
     "text": [
      "Requirement already satisfied: pandas in c:\\users\\mihir\\anaconda3\\lib\\site-packages (1.3.4)\n",
      "Requirement already satisfied: numpy>=1.17.3; platform_machine != \"aarch64\" and platform_machine != \"arm64\" and python_version < \"3.10\" in c:\\users\\mihir\\anaconda3\\lib\\site-packages (from pandas) (1.21.5)\n",
      "Requirement already satisfied: python-dateutil>=2.7.3 in c:\\users\\mihir\\anaconda3\\lib\\site-packages (from pandas) (2.8.1)\n",
      "Requirement already satisfied: pytz>=2017.3 in c:\\users\\mihir\\anaconda3\\lib\\site-packages (from pandas) (2019.3)\n",
      "Requirement already satisfied: six>=1.5 in c:\\users\\mihir\\anaconda3\\lib\\site-packages (from python-dateutil>=2.7.3->pandas) (1.15.0)\n",
      "Note: you may need to restart the kernel to use updated packages.\n"
     ]
    }
   ],
   "source": [
    "pip install pandas"
   ]
  },
  {
   "cell_type": "code",
   "execution_count": 1,
   "metadata": {},
   "outputs": [],
   "source": [
    "import json\n",
    "import pandas as pd"
   ]
  },
  {
   "cell_type": "code",
   "execution_count": 2,
   "metadata": {},
   "outputs": [],
   "source": [
    "f = open('train-v2.0.json')\n",
    "json_file = json.load(f)"
   ]
  },
  {
   "cell_type": "code",
   "execution_count": null,
   "metadata": {},
   "outputs": [],
   "source": [
    "title = []\n",
    "context = []\n",
    "question = []\n",
    "answer = []\n",
    "for i in json_file['data']:\n",
    "    title.append(i['title'])\n",
    "    tempq = []\n",
    "    tempa = []\n",
    "    tempc = ''\n",
    "    for j in i['paragraphs']:\n",
    "        tempc += j['context'] + ' '\n",
    "        for k in j['qas']:\n",
    "            if len(k['answers']) == 0:\n",
    "                continue\n",
    "            tempq.append(k['question'])\n",
    "            tempa.append(k['answers'][0])\n",
    "    context.append(tempc)\n",
    "    question.append(tempq)\n",
    "    answer.append(tempa)"
   ]
  },
  {
   "cell_type": "code",
   "execution_count": 10,
   "metadata": {},
   "outputs": [],
   "source": [
    "df = pd.DataFrame({'title':title, 'context':context, 'question':question, 'answer':answer})"
   ]
  },
  {
   "cell_type": "code",
   "execution_count": 15,
   "metadata": {},
   "outputs": [],
   "source": [
    "df.to_pickle('data.df')"
   ]
  },
  {
   "cell_type": "code",
   "execution_count": 16,
   "metadata": {},
   "outputs": [],
   "source": [
    "df = pd.read_pickle('data.df')"
   ]
  },
  {
   "cell_type": "code",
   "execution_count": 17,
   "metadata": {},
   "outputs": [],
   "source": [
    "for i in range(len(df)):\n",
    "    if len(df['question'][i])!=len(df['answer'][i]):\n",
    "        print('lol')"
   ]
  },
  {
   "cell_type": "markdown",
   "metadata": {},
   "source": [
    "## Prepare question generation dataset from SQuaD"
   ]
  },
  {
   "cell_type": "code",
   "execution_count": 1,
   "metadata": {},
   "outputs": [],
   "source": [
    "from nltk.tokenize import sent_tokenize\n",
    "import json\n",
    "import pandas as pd"
   ]
  },
  {
   "cell_type": "code",
   "execution_count": 2,
   "metadata": {},
   "outputs": [],
   "source": [
    "f = open('dev-v2.0.json')\n",
    "json_file = json.load(f)"
   ]
  },
  {
   "cell_type": "code",
   "execution_count": 3,
   "metadata": {},
   "outputs": [
    {
     "name": "stdout",
     "output_type": "stream",
     "text": [
      "Exact span found for 0.999 of data\n"
     ]
    }
   ],
   "source": [
    "qg_dataset = []\n",
    "num_qa = 0\n",
    "num_exact = 0 \n",
    "\n",
    "for i in json_file['data']:\n",
    "    title = i['title']\n",
    "    context = []\n",
    "    question = []\n",
    "    answer = []\n",
    "    for j in i['paragraphs']:\n",
    "        for k in j['qas']:\n",
    "            if len(k['answers']) == 0:\n",
    "                continue\n",
    "            \n",
    "            num_qa+=1\n",
    "            qg_row = {}\n",
    "\n",
    "            qg_row['question'] = k['question']\n",
    "            sentences = sent_tokenize(j['context'])\n",
    "            found = False\n",
    "            for ans in k['answers']:\n",
    "                for s in range(len(sentences)):\n",
    "                    if ans['text'] in sentences[s] and not found:\n",
    "                        num_exact+=1\n",
    "                        sent = sentences[s]\n",
    "                        found = True\n",
    "                        break\n",
    "                    \n",
    "            qg_row['sentence'] = sent\n",
    "            qg_row['answer'] = ans['text']\n",
    "            qg_row['context'] = j['context']\n",
    "            qg_row['exact'] = found\n",
    "            qg_dataset.append(qg_row)\n",
    "            \n",
    "print(f\"Exact span found for {round(num_exact/num_qa, 3)} of data\")"
   ]
  },
  {
   "cell_type": "code",
   "execution_count": 4,
   "metadata": {},
   "outputs": [],
   "source": [
    "qg_df = pd.DataFrame(qg_dataset)"
   ]
  },
  {
   "cell_type": "code",
   "execution_count": 5,
   "metadata": {},
   "outputs": [
    {
     "data": {
      "text/plain": [
       "{'question': 'In what country is Normandy located?',\n",
       " 'sentence': 'The Normans (Norman: Nourmands; French: Normands; Latin: Normanni) were the people who in the 10th and 11th centuries gave their name to Normandy, a region in France.',\n",
       " 'answer': 'France',\n",
       " 'context': 'The Normans (Norman: Nourmands; French: Normands; Latin: Normanni) were the people who in the 10th and 11th centuries gave their name to Normandy, a region in France. They were descended from Norse (\"Norman\" comes from \"Norseman\") raiders and pirates from Denmark, Iceland and Norway who, under their leader Rollo, agreed to swear fealty to King Charles III of West Francia. Through generations of assimilation and mixing with the native Frankish and Roman-Gaulish populations, their descendants would gradually merge with the Carolingian-based cultures of West Francia. The distinct cultural and ethnic identity of the Normans emerged initially in the first half of the 10th century, and it continued to evolve over the succeeding centuries.',\n",
       " 'exact': True}"
      ]
     },
     "execution_count": 5,
     "metadata": {},
     "output_type": "execute_result"
    }
   ],
   "source": [
    "qg_df.iloc[0].to_dict()"
   ]
  },
  {
   "cell_type": "code",
   "execution_count": 6,
   "metadata": {},
   "outputs": [
    {
     "data": {
      "text/html": [
       "<div>\n",
       "<style scoped>\n",
       "    .dataframe tbody tr th:only-of-type {\n",
       "        vertical-align: middle;\n",
       "    }\n",
       "\n",
       "    .dataframe tbody tr th {\n",
       "        vertical-align: top;\n",
       "    }\n",
       "\n",
       "    .dataframe thead th {\n",
       "        text-align: right;\n",
       "    }\n",
       "</style>\n",
       "<table border=\"1\" class=\"dataframe\">\n",
       "  <thead>\n",
       "    <tr style=\"text-align: right;\">\n",
       "      <th></th>\n",
       "      <th>question</th>\n",
       "      <th>sentence</th>\n",
       "      <th>answer</th>\n",
       "      <th>context</th>\n",
       "      <th>exact</th>\n",
       "    </tr>\n",
       "  </thead>\n",
       "  <tbody>\n",
       "    <tr>\n",
       "      <th>899</th>\n",
       "      <td>Who was one prominent Huguenot-descended arms ...</td>\n",
       "      <td>The Huguenots adapted quickly and often marrie...</td>\n",
       "      <td>E.I. du Pont</td>\n",
       "      <td>Most of the Huguenot congregations (or individ...</td>\n",
       "      <td>False</td>\n",
       "    </tr>\n",
       "    <tr>\n",
       "      <th>2334</th>\n",
       "      <td>Who allegedly coined the name Black Death?</td>\n",
       "      <td>Gasquet (1908) claimed that the Latin name atr...</td>\n",
       "      <td>J.I. Pontanus</td>\n",
       "      <td>Gasquet (1908) claimed that the Latin name atr...</td>\n",
       "      <td>False</td>\n",
       "    </tr>\n",
       "    <tr>\n",
       "      <th>3176</th>\n",
       "      <td>What famous civil rights leader called Harvard...</td>\n",
       "      <td>Du Bois; philosopher Henry David Thoreau; auth...</td>\n",
       "      <td>W. E. B. Du Bois</td>\n",
       "      <td>Other: Civil rights leader W. E. B. Du Bois; p...</td>\n",
       "      <td>False</td>\n",
       "    </tr>\n",
       "    <tr>\n",
       "      <th>3734</th>\n",
       "      <td>Who calculated the speed of light?</td>\n",
       "      <td>Other prominent alumni include anthropologists...</td>\n",
       "      <td>A. A. Michelson</td>\n",
       "      <td>Notable faculty in physics have included the s...</td>\n",
       "      <td>False</td>\n",
       "    </tr>\n",
       "    <tr>\n",
       "      <th>4403</th>\n",
       "      <td>According to Wilson's theorem, what factorial ...</td>\n",
       "      <td>Another consequence of Fermat's little theorem...</td>\n",
       "      <td>(p − 1)! + 1</td>\n",
       "      <td>Giuga's conjecture says that this equation is ...</td>\n",
       "      <td>False</td>\n",
       "    </tr>\n",
       "  </tbody>\n",
       "</table>\n",
       "</div>"
      ],
      "text/plain": [
       "                                               question  \\\n",
       "899   Who was one prominent Huguenot-descended arms ...   \n",
       "2334         Who allegedly coined the name Black Death?   \n",
       "3176  What famous civil rights leader called Harvard...   \n",
       "3734                 Who calculated the speed of light?   \n",
       "4403  According to Wilson's theorem, what factorial ...   \n",
       "\n",
       "                                               sentence            answer  \\\n",
       "899   The Huguenots adapted quickly and often marrie...      E.I. du Pont   \n",
       "2334  Gasquet (1908) claimed that the Latin name atr...     J.I. Pontanus   \n",
       "3176  Du Bois; philosopher Henry David Thoreau; auth...  W. E. B. Du Bois   \n",
       "3734  Other prominent alumni include anthropologists...   A. A. Michelson   \n",
       "4403  Another consequence of Fermat's little theorem...      (p − 1)! + 1   \n",
       "\n",
       "                                                context  exact  \n",
       "899   Most of the Huguenot congregations (or individ...  False  \n",
       "2334  Gasquet (1908) claimed that the Latin name atr...  False  \n",
       "3176  Other: Civil rights leader W. E. B. Du Bois; p...  False  \n",
       "3734  Notable faculty in physics have included the s...  False  \n",
       "4403  Giuga's conjecture says that this equation is ...  False  "
      ]
     },
     "execution_count": 6,
     "metadata": {},
     "output_type": "execute_result"
    }
   ],
   "source": [
    "# failed to identify sentence containing answer\n",
    "qg_df[qg_df['exact']==False]"
   ]
  },
  {
   "cell_type": "code",
   "execution_count": 7,
   "metadata": {},
   "outputs": [],
   "source": [
    "qg_df[qg_df['exact']==True].to_csv('qg_dev.csv', encoding='utf-8')"
   ]
  }
 ],
 "metadata": {
  "kernelspec": {
   "display_name": "Python 3.8.3 ('base')",
   "language": "python",
   "name": "python3"
  },
  "language_info": {
   "codemirror_mode": {
    "name": "ipython",
    "version": 3
   },
   "file_extension": ".py",
   "mimetype": "text/x-python",
   "name": "python",
   "nbconvert_exporter": "python",
   "pygments_lexer": "ipython3",
   "version": "3.8.3"
  },
  "vscode": {
   "interpreter": {
    "hash": "f08154012ddadd8e950e6e9e035c7a7b32c136e7647e9b7c77e02eb723a8bedb"
   }
  }
 },
 "nbformat": 4,
 "nbformat_minor": 4
}
